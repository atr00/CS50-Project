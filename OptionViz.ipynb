{
 "cells": [
  {
   "cell_type": "code",
   "execution_count": 1,
   "metadata": {},
   "outputs": [],
   "source": [
    "# !pip install nest_asyncio\n",
    "# !pip install scipy\n",
    "# !pip install pandas\n",
    "# !pip install seaborn"
   ]
  },
  {
   "cell_type": "code",
   "execution_count": 2,
   "metadata": {
    "executionInfo": {
     "elapsed": 616,
     "status": "ok",
     "timestamp": 1646364295689,
     "user": {
      "displayName": "Alessandro TRUPO",
      "photoUrl": "https://lh3.googleusercontent.com/a-/AOh14GgbHSkNehXq2fn4bFRKuapYul6o-kbicPy6DuXBgw=s64",
      "userId": "06486749274092933384"
     },
     "user_tz": -480
    },
    "id": "Bhk6Z6c-m4BY"
   },
   "outputs": [],
   "source": [
    "# imports\n",
    "\n",
    "import pandas as pd\n",
    "import numpy as np\n",
    "from matplotlib import pyplot as plt\n",
    "import seaborn as sns\n",
    "from helper import generate_schedule, is_notebook, deribitExp2Dt\n",
    "from options import Option, OptionPortfolio, BullishStrategy\n",
    "import datetime as dt\n",
    "from deribit import client\n",
    "import ipywidgets as widgets\n",
    "from IPython.display import display\n",
    "import nest_asyncio\n",
    "nest_asyncio.apply()"
   ]
  },
  {
   "cell_type": "code",
   "execution_count": 37,
   "metadata": {},
   "outputs": [],
   "source": [
    "# Initialize an empty portoflio\n",
    "ptf = OptionPortfolio()\n",
    "\n",
    "# Initialize instruments lists and default values\n",
    "indices = {'ETH': ('eth_usd', 'ETH'), 'BTC': ('btc_usd', 'BTC')}\n",
    "futures = []\n",
    "options = []\n",
    "for index in indices:\n",
    "    options.append(client.download_instr_data(index, 'option'))\n",
    "    futures.append(client.download_instr_data(index, 'future'))\n",
    "options_df = pd.concat(options)\n",
    "futures_df = pd.concat(futures)\n",
    "\n",
    "# Initialize the output\n",
    "output = widgets.Output()"
   ]
  },
  {
   "cell_type": "code",
   "execution_count": 62,
   "metadata": {},
   "outputs": [],
   "source": [
    "# Download from Deribit the current expiry dates\n",
    "fut_exp = client.get_fut_exp(futures_df, indices[list(indices.keys())[0]][0])\n",
    "\n",
    "# Download the available strikes with the selected expiry date\n",
    "strikes = client.get_strike(options_df, indices[list(indices.keys())[0]][0], 'call', fut_exp[0])\n",
    "\n",
    "# Create a droplist to select the underlying (ETH or BTC)\n",
    "index_selection = widgets.Dropdown( options=list(indices.keys()),\n",
    "                                    value=list(indices.keys())[0],\n",
    "                                    description='Index',\n",
    "                                    disabled=False)\n",
    "\n",
    "# Create a droplist to select the option type (buy or sell)\n",
    "side_selection = widgets.Dropdown(options=['buy', 'sell'],\n",
    "                             value='buy',\n",
    "                             description='Side',\n",
    "                             disabled=False)\n",
    "\n",
    "# Create a input boxt to enter the notional\n",
    "size_selection = widgets.BoundedFloatText(\n",
    "                value=1.0,\n",
    "                min=0,\n",
    "                max=99999999999999999999999999999999999.0,\n",
    "                step=0.5,\n",
    "                description='Size:',\n",
    "                disabled=False\n",
    "            )                         \n",
    "\n",
    "# Create a droplist to select the option type (call or put)\n",
    "opt_type_selection = widgets.Dropdown(options=['call', 'put'],\n",
    "                             value='call',\n",
    "                             description='Type',\n",
    "                             disabled=False)\n",
    "\n",
    "# Create dropdown widget with the Deribit expiry dates\n",
    "exp_selection = widgets.Dropdown(options=fut_exp,\n",
    "                             value=fut_exp[0],\n",
    "                             description='Expiry',\n",
    "                             disabled=False)\n",
    "\n",
    "# Create dropdown widget with the Deribit strikes\n",
    "strike_selection = widgets.Dropdown(options=strikes,\n",
    "                             value=strikes[0],\n",
    "                             description='Strike',\n",
    "                             disabled=False)\n",
    "\n",
    "# Create the add button object\n",
    "add_opt_btn = widgets.Button(\n",
    "              description='Add',\n",
    "              disabled=False,\n",
    "              button_style='', # 'success', 'info', 'warning', 'danger' or ''\n",
    "              tooltip='Add an option to the strategy',\n",
    "              icon='fa-plus'\n",
    "              )\n",
    "\n",
    "# Create the reset button object\n",
    "reset_btn = widgets.Button(\n",
    "            description='Reset',\n",
    "            disabled=False,\n",
    "            button_style='', # 'success', 'info', 'warning', 'danger' or ''\n",
    "            tooltip='Reset the strategy',\n",
    "            icon=''\n",
    "            )  \n",
    "\n",
    "# Update the strikes list\n",
    "def update_strikes():\n",
    "    global strikes\n",
    "    undl = indices[index_selection.value][0]\n",
    "    strikes = client.get_strike(options_df, undl, 'call', exp_selection.value)\n",
    "\n",
    "# Update the expiry dates\n",
    "def update_futures_exp():\n",
    "    global fut_exp\n",
    "    undl = indices[index_selection.value][0]\n",
    "    fut_exp = client.get_fut_exp(futures_df, undl)\n",
    "    \n",
    "# Trigger the update the strikes list when the expiry date changes\n",
    "def on_change_expiry(_):\n",
    "    #global exp_selection\n",
    "    update_strikes()\n",
    "    strike_selection.options=strikes\n",
    "    strike_selection.value=strikes[0]\n",
    "\n",
    "# Trigger the update of all the fields when the index is changed\n",
    "def on_change_index(_):\n",
    "    update_futures_exp()\n",
    "    exp_selection.options=fut_exp\n",
    "    exp_selection.value=fut_exp[0]    \n",
    "    update_strikes()\n",
    "    strike_selection.options=strikes\n",
    "    strike_selection.value=strikes[0]\n",
    "    side_selection.value = 'buy'\n",
    "    size_selection.value = 1.0\n",
    "    \n",
    "# Reset the strategy\n",
    "def reset(_):\n",
    "    global ptf\n",
    "    ptf = OptionPortfolio()\n",
    "    update_output()\n",
    "\n",
    "# Add an option to the stragegy\n",
    "def add(b):\n",
    "    global ptf\n",
    "    undl = indices[index_selection.value][0]\n",
    "    undl = undl[0:3] + '-' + undl[-3:]\n",
    "    k = strike_selection.value\n",
    "    exp = deribitExp2Dt(exp_selection.value)\n",
    "    opt_type = opt_type_selection.value\n",
    "    size = float(size_selection.value)\n",
    "    side = side_selection.value\n",
    "    opt = Option(undl, opt_type, k, exp, size, side)\n",
    "    ptf.add(opt)\n",
    "    update_output()\n",
    "    \n",
    "def update_output():\n",
    "    with output:\n",
    "        display(ptf.to_df, clear=True)\n",
    "\n",
    "# Create a display VBox\n",
    "index_label = widgets.Label(value='Index') \n",
    "side_label = widgets.Label(value='Direction')\n",
    "size_label = widgets.Label(value='Size')\n",
    "exp_label = widgets.Label(value='Expiry')\n",
    "opt_type_label = widgets.Label(value='Type')\n",
    "strike_label = widgets.Label(value='Strike')\n",
    "\n",
    "# Setting up the box layoyt\n",
    "box_layout = widgets.Layout(display='flex',\n",
    "                flex_flow='column',\n",
    "                align_items='flex-end',\n",
    "                width='33%')\n",
    "\n",
    "items = [index_selection,\n",
    "         side_selection,\n",
    "         size_selection,\n",
    "         exp_selection,\n",
    "         opt_type_selection,\n",
    "         strike_selection,\n",
    "         add_opt_btn,\n",
    "         reset_btn]\n",
    "\n",
    "\n",
    "# Create observers\n",
    "index_selection.observe(on_change_index)\n",
    "exp_selection.observe(on_change_expiry)\n",
    "add_opt_btn.on_click(add)\n",
    "reset_btn.on_click(reset)\n",
    "\n",
    "# Create display\n",
    "\n",
    "controls_label = widgets.Label('Option')\n",
    "controls = widgets.VBox(children=[controls_label] + items, layout=box_layout)\n",
    "output_label = widgets.Label('Strategy')\n",
    "output_gui = widgets.VBox(children=[output_label, output])"
   ]
  },
  {
   "cell_type": "code",
   "execution_count": 59,
   "metadata": {},
   "outputs": [
    {
     "data": {
      "application/vnd.jupyter.widget-view+json": {
       "model_id": "aa2eb51f31d2446c82a66bd71e9d30b8",
       "version_major": 2,
       "version_minor": 0
      },
      "text/plain": [
       "VBox(children=(Label(value='Option'), Dropdown(description='Index', options=('ETH', 'BTC'), value='ETH'), Drop…"
      ]
     },
     "metadata": {},
     "output_type": "display_data"
    }
   ],
   "source": [
    "display(controls)"
   ]
  },
  {
   "cell_type": "code",
   "execution_count": 60,
   "metadata": {},
   "outputs": [
    {
     "data": {
      "application/vnd.jupyter.widget-view+json": {
       "model_id": "ff105c2c2cc14da88c88d06a99e98dd5",
       "version_major": 2,
       "version_minor": 0
      },
      "text/plain": [
       "Output(outputs=({'output_type': 'display_data', 'data': {'text/plain': 'Empty DataFrame\\nColumns: [side, under…"
      ]
     },
     "metadata": {},
     "output_type": "display_data"
    }
   ],
   "source": [
    "display(output)"
   ]
  },
  {
   "cell_type": "code",
   "execution_count": null,
   "metadata": {},
   "outputs": [],
   "source": []
  }
 ],
 "metadata": {
  "colab": {
   "authorship_tag": "ABX9TyOY+Cp4o506/Q69O5LHK7JE",
   "collapsed_sections": [],
   "name": "OptionViz.ipynb",
   "provenance": []
  },
  "kernelspec": {
   "display_name": "Python 3 (ipykernel)",
   "language": "python",
   "name": "python3"
  },
  "language_info": {
   "codemirror_mode": {
    "name": "ipython",
    "version": 3
   },
   "file_extension": ".py",
   "mimetype": "text/x-python",
   "name": "python",
   "nbconvert_exporter": "python",
   "pygments_lexer": "ipython3",
   "version": "3.9.10"
  },
  "vscode": {
   "interpreter": {
    "hash": "949777d72b0d2535278d3dc13498b2535136f6dfe0678499012e853ee9abcab1"
   }
  }
 },
 "nbformat": 4,
 "nbformat_minor": 1
}
