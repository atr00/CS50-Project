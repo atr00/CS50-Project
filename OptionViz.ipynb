{
 "cells": [
  {
   "cell_type": "code",
   "execution_count": 1,
   "metadata": {},
   "outputs": [],
   "source": [
    "# !pip install nest_asyncio\n",
    "# !pip install scipy\n",
    "# !pip install pandas\n",
    "# !pip install seaborn\n",
    "# !pip install ipywidgets"
   ]
  },
  {
   "cell_type": "code",
   "execution_count": 2,
   "metadata": {},
   "outputs": [],
   "source": [
    "# imports\n",
    "import pandas as pd\n",
    "import numpy as np\n",
    "from matplotlib import pyplot as plt\n",
    "import seaborn as sns\n",
    "from helper import generate_schedule, is_notebook, deribitExp2Dt\n",
    "from options import Option, OptionPortfolio, BullishStrategy\n",
    "import datetime as dt\n",
    "from deribit import client\n",
    "import ipywidgets as widgets\n",
    "from IPython.display import display, clear_output\n",
    "import nest_asyncio\n",
    "nest_asyncio.apply()"
   ]
  },
  {
   "cell_type": "code",
   "execution_count": 3,
   "metadata": {},
   "outputs": [],
   "source": [
    "%matplotlib inline\n",
    "\n",
    "# Initialize an empty portoflio\n",
    "ptf = OptionPortfolio()\n",
    "\n",
    "# Initialize instruments lists and default values\n",
    "indices = {'ETH': ('eth_usd', 'ETH'), 'BTC': ('btc_usd', 'BTC')}\n",
    "futures = []\n",
    "options = []\n",
    "for index in indices:\n",
    "    options.append(client.download_instr_data(index, 'option'))\n",
    "    futures.append(client.download_instr_data(index, 'future'))\n",
    "options_df = pd.concat(options)\n",
    "futures_df = pd.concat(futures)\n",
    "\n",
    "\n",
    "# Initialize the output\n",
    "output = {}\n",
    "output['Strategy'] = widgets.Output()\n",
    "for index in indices:\n",
    "    output[index] = widgets.Output()\n",
    "    output['plot_' + index] = widgets.Output()"
   ]
  },
  {
   "cell_type": "code",
   "execution_count": 4,
   "metadata": {},
   "outputs": [],
   "source": [
    "# Download from Deribit the current expiry dates\n",
    "fut_exp = client.get_fut_exp(futures_df, indices[list(indices.keys())[0]][0])\n",
    "\n",
    "# Download the available strikes with the selected expiry date\n",
    "strikes = client.get_strike(options_df, indices[list(indices.keys())[0]][0], 'call', fut_exp[0])\n",
    "\n",
    "# Create a droplist to select the underlying (ETH or BTC)\n",
    "index_selection = widgets.Dropdown(options=list(indices.keys()),\n",
    "                                   value=list(indices.keys())[0],\n",
    "                                   description='Index',\n",
    "                                   disabled=False)\n",
    "\n",
    "# Create a droplist to select the option type (buy or sell)\n",
    "side_selection = widgets.Dropdown(options=['buy', 'sell'],\n",
    "                                  value='buy',\n",
    "                                  description='Side',\n",
    "                                  disabled=False)\n",
    "\n",
    "# Create a input boxt to enter the notional\n",
    "size_selection = widgets.BoundedFloatText(\n",
    "                value=1.0,\n",
    "                min=0,\n",
    "                max=99999999999999999999999999999999999.0,\n",
    "                step=0.5,\n",
    "                description='Size:',\n",
    "                disabled=False\n",
    "                )                         \n",
    "\n",
    "# Create a droplist to select the option type (call or put)\n",
    "opt_type_selection = widgets.Dropdown(options=['call', 'put'],\n",
    "                                      value='call',\n",
    "                                      description='Type',\n",
    "                                      disabled=False)\n",
    "\n",
    "# Create dropdown widget with the Deribit expiry dates\n",
    "exp_selection = widgets.Dropdown(options=fut_exp,\n",
    "                                 value=fut_exp[0],\n",
    "                                 description='Expiry',\n",
    "                                 disabled=False)\n",
    "\n",
    "# Create dropdown widget with the Deribit strikes\n",
    "strike_selection = widgets.Dropdown(options=strikes,\n",
    "                                    value=strikes[0],\n",
    "                                    description='Strike',\n",
    "                                    disabled=False)\n",
    "\n",
    "# Create the add button object\n",
    "add_opt_btn = widgets.Button(\n",
    "              description='Add',\n",
    "              disabled=False,\n",
    "              button_style='', # 'success', 'info', 'warning', 'danger' or ''\n",
    "              tooltip='Add an option to the strategy',\n",
    "              icon='fa-plus'\n",
    "              )\n",
    "\n",
    "# Create the reset button object\n",
    "reset_btn = widgets.Button(\n",
    "            description='Reset',\n",
    "            disabled=False,\n",
    "            button_style='', # 'success', 'info', 'warning', 'danger' or ''\n",
    "            tooltip='Reset the strategy',\n",
    "            icon=''\n",
    "            )  \n",
    "\n",
    "# Update the strikes list\n",
    "def update_strikes():\n",
    "    global strikes\n",
    "    undl = indices[index_selection.value][0]\n",
    "    strikes = client.get_strike(options_df, undl, 'call', exp_selection.value)\n",
    "\n",
    "# Update the expiry dates\n",
    "def update_futures_exp():\n",
    "    global fut_exp\n",
    "    undl = indices[index_selection.value][0]\n",
    "    fut_exp = client.get_fut_exp(futures_df, undl)\n",
    "    \n",
    "# Trigger the update the strikes list when the expiry date changes\n",
    "def on_change_expiry(_):\n",
    "    #global exp_selection\n",
    "    update_strikes()\n",
    "    strike_selection.options=strikes\n",
    "    strike_selection.value=strikes[0]\n",
    "\n",
    "# Trigger the update of all the fields when the index is changed\n",
    "def on_change_index(_):\n",
    "    update_futures_exp()\n",
    "    exp_selection.options=fut_exp\n",
    "    exp_selection.value=fut_exp[0]    \n",
    "    update_strikes()\n",
    "    strike_selection.options=strikes\n",
    "    strike_selection.value=strikes[0]\n",
    "    side_selection.value = 'buy'\n",
    "    size_selection.value = 1.0\n",
    "    \n",
    "# Reset the strategy\n",
    "def reset(_):\n",
    "    global ptf\n",
    "    ptf = OptionPortfolio()\n",
    "    for index in indices:\n",
    "        output[index].clear_output()\n",
    "    output['plot_' + index].clear_output()    \n",
    "    update_output()\n",
    "\n",
    "# Add an option to the stragegy\n",
    "def add(b):\n",
    "    global ptf\n",
    "    undl = indices[index_selection.value][0]\n",
    "    undl = undl[0:3] + '-' + undl[-3:]\n",
    "    k = strike_selection.value\n",
    "    exp = deribitExp2Dt(exp_selection.value)\n",
    "    opt_type = opt_type_selection.value\n",
    "    size = float(size_selection.value)\n",
    "    side = side_selection.value\n",
    "    opt = Option(undl, opt_type, k, exp, size, side)\n",
    "    ptf.add(opt)\n",
    "    update_output()\n",
    "    \n",
    "def update_output():\n",
    "    price = ptf.deribit_price()        \n",
    "    with output['Strategy']:\n",
    "        display(ptf.to_df, clear=True)\n",
    "    for index in ptf.unique_undls:\n",
    "        tmp = index[:3].upper()\n",
    "        key = indices[index[:3].upper()][0].replace('_', '-')\n",
    "        with output[tmp]:\n",
    "            display(pd.DataFrame.from_dict(price[key]), clear=True)\n",
    "        with output['plot_' + tmp]:\n",
    "            display(ptf.plot(key), clear = True)\n",
    "            \n",
    "\n",
    "# Create a display VBox for the control menu\n",
    "index_label = widgets.Label(value='Index') \n",
    "side_label = widgets.Label(value='Direction')\n",
    "size_label = widgets.Label(value='Size')\n",
    "exp_label = widgets.Label(value='Expiry')\n",
    "opt_type_label = widgets.Label(value='Type')\n",
    "strike_label = widgets.Label(value='Strike')\n",
    "\n",
    "# Setting up the box layout\n",
    "box_layout = widgets.Layout(display='flex',\n",
    "                            flex_flow='column',\n",
    "                            align_items='flex-end',\n",
    "                            width='33%')\n",
    "\n",
    "items = [index_selection,\n",
    "         side_selection,\n",
    "         size_selection,\n",
    "         exp_selection,\n",
    "         opt_type_selection,\n",
    "         strike_selection,\n",
    "         add_opt_btn,\n",
    "         reset_btn]\n",
    "\n",
    "# Create observers\n",
    "index_selection.observe(on_change_index, names='value')\n",
    "exp_selection.observe(on_change_expiry, names='value')\n",
    "add_opt_btn.on_click(add)\n",
    "reset_btn.on_click(reset)\n",
    "\n",
    "# Create controls display\n",
    "controls_label = widgets.Label('Option Selector')\n",
    "controls = widgets.VBox(children=items, layout=box_layout)\n",
    "\n",
    "# Create tabs. One tab per underlying available and one tab for the overall strategy\n",
    "tab_label = widgets.Label('Strategy Analytics')\n",
    "tab_nest = widgets.Tab()\n",
    "tab_children = [output['Strategy']]\n",
    "tab_titles = ['Strategy']\n",
    "\n",
    "for index in indices:\n",
    "    tab_children.append(output[index])\n",
    "    tab_titles.append('Analytics (' + index + ')')\n",
    "    \n",
    "tab_nest.children = tab_children\n",
    "for title, (index, _) in zip(tab_titles, enumerate(tab_nest.children)):\n",
    "    tab_nest.set_title(index, title)\n",
    "    \n",
    "tabs = widgets.VBox([tab_label, tab_nest])\n",
    "\n",
    "# Create the plot display\n",
    "plots_children = []\n",
    "for index in indices:\n",
    "    plots_children += [output['plot_' + index]]\n",
    "plots = widgets.HBox(children=plots_children)"
   ]
  },
  {
   "cell_type": "code",
   "execution_count": 5,
   "metadata": {},
   "outputs": [
    {
     "data": {
      "application/vnd.jupyter.widget-view+json": {
       "model_id": "77c977dfc1614f2fb9d72437a8df2d0c",
       "version_major": 2,
       "version_minor": 0
      },
      "text/plain": [
       "Label(value='Option Selector')"
      ]
     },
     "metadata": {},
     "output_type": "display_data"
    },
    {
     "data": {
      "application/vnd.jupyter.widget-view+json": {
       "model_id": "1a3fa83f811742138c14736bac01c775",
       "version_major": 2,
       "version_minor": 0
      },
      "text/plain": [
       "VBox(children=(Dropdown(description='Index', options=('ETH', 'BTC'), value='ETH'), Dropdown(description='Side'…"
      ]
     },
     "metadata": {},
     "output_type": "display_data"
    },
    {
     "data": {
      "application/vnd.jupyter.widget-view+json": {
       "model_id": "b97161c26b2c44d9a73d556d210287af",
       "version_major": 2,
       "version_minor": 0
      },
      "text/plain": [
       "VBox(children=(Label(value='Strategy Analytics'), Tab(children=(Output(), Output(), Output()), _titles={'0': '…"
      ]
     },
     "metadata": {},
     "output_type": "display_data"
    },
    {
     "data": {
      "application/vnd.jupyter.widget-view+json": {
       "model_id": "e70a571580c9400fa0aaff0b44abf8ee",
       "version_major": 2,
       "version_minor": 0
      },
      "text/plain": [
       "HBox(children=(Output(), Output()))"
      ]
     },
     "metadata": {},
     "output_type": "display_data"
    }
   ],
   "source": [
    "display(controls_label)\n",
    "display(controls)\n",
    "display(tabs)\n",
    "display(plots)"
   ]
  }
 ],
 "metadata": {
  "colab": {
   "authorship_tag": "ABX9TyOY+Cp4o506/Q69O5LHK7JE",
   "collapsed_sections": [],
   "name": "OptionViz.ipynb",
   "provenance": []
  },
  "kernelspec": {
   "display_name": "Python 3 (ipykernel)",
   "language": "python",
   "name": "python3"
  },
  "language_info": {
   "codemirror_mode": {
    "name": "ipython",
    "version": 3
   },
   "file_extension": ".py",
   "mimetype": "text/x-python",
   "name": "python",
   "nbconvert_exporter": "python",
   "pygments_lexer": "ipython3",
   "version": "3.9.10"
  },
  "vscode": {
   "interpreter": {
    "hash": "949777d72b0d2535278d3dc13498b2535136f6dfe0678499012e853ee9abcab1"
   }
  }
 },
 "nbformat": 4,
 "nbformat_minor": 1
}
